{
 "cells": [
  {
   "cell_type": "markdown",
   "metadata": {},
   "source": [
    "https://github.com/JakubPolanowski/Web-Scraping-Public-Realtor-Data/blob/master/web%20scraping%20realtor.ipynb"
   ]
  },
  {
   "cell_type": "code",
   "execution_count": 6,
   "metadata": {},
   "outputs": [],
   "source": [
    "# import pandas as pd\n",
    "import requests\n",
    "# from time import sleep\n",
    "# import concurrent.futures\n",
    "# import json\n",
    "# from datetime import datetime\n",
    "# import re"
   ]
  },
  {
   "cell_type": "code",
   "execution_count": 19,
   "metadata": {},
   "outputs": [],
   "source": [
    "def get_schools(property_id: str):\n",
    "        headers = {\n",
    "            \"authority\": \"www.realtor.com\",\n",
    "            \"accept\": \"*/*\",\n",
    "            \"accept-language\": \"en-US,en;q=0.9\",\n",
    "            \"sec-fetch-dest\": \"empty\",\n",
    "            \"sec-fetch-mode\": \"cors\",\n",
    "            \"sec-fetch-site\": \"same-origin\",\n",
    "            \"sec-gpc\": \"1\",\n",
    "            \"user-agent\": \"Mozilla/5.0 (X11; Linux x86_64) AppleWebKit/537.36 (KHTML, like Gecko) Chrome/107.0.0.0 Safari/537.36\"\n",
    "        }\n",
    "\n",
    "        url = \"https://www.realtor.com/api/v1/hulk\"\n",
    "\n",
    "        querystring = {\"client_id\": \"rdc-x\", \"schema\": \"vesta\"}\n",
    "\n",
    "        payload = {\n",
    "            \"query\": \"\"\"\n",
    "            query GetLocalData($propertyId: ID!) {\n",
    "                home(property_id: $propertyId) {\n",
    "                    schools {\n",
    "                        total\n",
    "                         schools {\n",
    "                            id\n",
    "                            name\n",
    "                            slug_id\n",
    "                            education_levels\n",
    "                            distance_in_miles\n",
    "                            student_teacher_ratio\n",
    "                            rating\n",
    "                            grades\n",
    "                            funding_type\n",
    "                            student_count\n",
    "                            review_count\n",
    "                            parent_rating\n",
    "                            assigned\n",
    "                        }\n",
    "                    }\n",
    "                }\n",
    "            }\n",
    "            \"\"\",\n",
    "            \"variables\": {\"propertyId\": property_id}\n",
    "        }\n",
    "        try:\n",
    "            response = requests.request(\n",
    "                \"POST\", url, json=payload, headers=headers, params=querystring)\n",
    "            data = response.json()\n",
    "        except:\n",
    "            return 'ERROR'\n",
    "\n",
    "        if data is None:\n",
    "            return ''\n",
    "        else:\n",
    "            return data"
   ]
  },
  {
   "cell_type": "code",
   "execution_count": 20,
   "metadata": {},
   "outputs": [
    {
     "data": {
      "text/plain": [
       "{'data': {'home': {'schools': {'total': 4,\n",
       "    'schools': [{'id': '0772864461',\n",
       "      'name': 'Hunt Valley Elementary School',\n",
       "      'slug_id': 'Hunt-Valley-Elementary-School-0772864461',\n",
       "      'education_levels': ['elementary'],\n",
       "      'distance_in_miles': 0.4,\n",
       "      'student_teacher_ratio': 14.6,\n",
       "      'rating': 9,\n",
       "      'grades': ['K', '1', '2', '3', '4', '5', '6'],\n",
       "      'funding_type': 'public',\n",
       "      'student_count': 730,\n",
       "      'review_count': 13,\n",
       "      'parent_rating': 4,\n",
       "      'assigned': True},\n",
       "     {'id': '0772865511',\n",
       "      'name': 'West Springfield High School',\n",
       "      'slug_id': 'West-Springfield-High-School-0772865511',\n",
       "      'education_levels': ['high'],\n",
       "      'distance_in_miles': 1.3,\n",
       "      'student_teacher_ratio': 16.9,\n",
       "      'rating': 9,\n",
       "      'grades': ['9', '10', '11', '12'],\n",
       "      'funding_type': 'public',\n",
       "      'student_count': 2310,\n",
       "      'review_count': 14,\n",
       "      'parent_rating': 4,\n",
       "      'assigned': True},\n",
       "     {'id': '0772864521',\n",
       "      'name': 'Irving Middle School',\n",
       "      'slug_id': 'Irving-Middle-School-0772864521',\n",
       "      'education_levels': ['middle'],\n",
       "      'distance_in_miles': 1.4,\n",
       "      'student_teacher_ratio': 16,\n",
       "      'rating': 7,\n",
       "      'grades': ['7', '8'],\n",
       "      'funding_type': 'public',\n",
       "      'student_count': 1100,\n",
       "      'review_count': 17,\n",
       "      'parent_rating': 3,\n",
       "      'assigned': True},\n",
       "     {'id': '0772897821',\n",
       "      'name': 'Sydenstricker School',\n",
       "      'slug_id': 'Sydenstricker-School-0772897821',\n",
       "      'education_levels': ['elementary'],\n",
       "      'distance_in_miles': 0.3,\n",
       "      'student_teacher_ratio': None,\n",
       "      'rating': None,\n",
       "      'grades': ['PK', 'K'],\n",
       "      'funding_type': 'private',\n",
       "      'student_count': 58,\n",
       "      'review_count': 14,\n",
       "      'parent_rating': 4,\n",
       "      'assigned': None}]}}}}"
      ]
     },
     "execution_count": 20,
     "metadata": {},
     "output_type": "execute_result"
    }
   ],
   "source": [
    "get_schools(5121897759)"
   ]
  },
  {
   "cell_type": "code",
   "execution_count": null,
   "metadata": {},
   "outputs": [],
   "source": []
  }
 ],
 "metadata": {
  "kernelspec": {
   "display_name": "house_env",
   "language": "python",
   "name": "python3"
  },
  "language_info": {
   "codemirror_mode": {
    "name": "ipython",
    "version": 3
   },
   "file_extension": ".py",
   "mimetype": "text/x-python",
   "name": "python",
   "nbconvert_exporter": "python",
   "pygments_lexer": "ipython3",
   "version": "3.11.3"
  }
 },
 "nbformat": 4,
 "nbformat_minor": 2
}
